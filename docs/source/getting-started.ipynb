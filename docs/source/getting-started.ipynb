{
 "cells": [
  {
   "cell_type": "code",
   "execution_count": 1,
   "metadata": {},
   "outputs": [],
   "source": [
    "from gapipes.gaia import Tap"
   ]
  },
  {
   "cell_type": "code",
   "execution_count": 2,
   "metadata": {},
   "outputs": [],
   "source": [
    "tap = Tap.from_url(\"http://gea.esac.esa.int:80/tap-server/tap\")"
   ]
  },
  {
   "cell_type": "code",
   "execution_count": 3,
   "metadata": {},
   "outputs": [
    {
     "data": {
      "text/plain": [
       "[public.dual, 1 columns,\n",
       " public.hipparcos, 78 columns,\n",
       " public.hipparcos_newreduction, 43 columns,\n",
       " public.hubble_sc, 421 columns,\n",
       " public.igsl_source, 43 columns,\n",
       " public.igsl_source_catalog_ids, 12 columns,\n",
       " public.tycho2, 39 columns,\n",
       " gaiadr1.aux_qso_icrf2_match, 12 columns,\n",
       " gaiadr1.ext_phot_zero_point, 7 columns,\n",
       " gaiadr1.allwise_best_neighbour, 8 columns,\n",
       " gaiadr1.allwise_neighbourhood, 6 columns,\n",
       " gaiadr1.gsc23_best_neighbour, 8 columns,\n",
       " gaiadr1.gsc23_neighbourhood, 6 columns,\n",
       " gaiadr1.ppmxl_best_neighbour, 8 columns,\n",
       " gaiadr1.ppmxl_neighbourhood, 6 columns,\n",
       " gaiadr1.sdss_dr9_best_neighbour, 8 columns,\n",
       " gaiadr1.sdss_dr9_neighbourhood, 6 columns,\n",
       " gaiadr1.tmass_best_neighbour, 8 columns,\n",
       " gaiadr1.tmass_neighbourhood, 6 columns,\n",
       " gaiadr1.ucac4_best_neighbour, 8 columns,\n",
       " gaiadr1.ucac4_neighbourhood, 6 columns,\n",
       " gaiadr1.urat1_best_neighbour, 8 columns,\n",
       " gaiadr1.urat1_neighbourhood, 6 columns,\n",
       " gaiadr1.cepheid, 18 columns,\n",
       " gaiadr1.phot_variable_time_series_gfov, 7 columns,\n",
       " gaiadr1.phot_variable_time_series_gfov_statistical_parameters, 16 columns,\n",
       " gaiadr1.rrlyrae, 16 columns,\n",
       " gaiadr1.variable_summary, 4 columns,\n",
       " gaiadr1.allwise_original_valid, 32 columns,\n",
       " gaiadr1.gsc23_original_valid, 25 columns,\n",
       " gaiadr1.ppmxl_original_valid, 19 columns,\n",
       " gaiadr1.sdssdr9_original_valid, 20 columns,\n",
       " gaiadr1.tmass_original_valid, 16 columns,\n",
       " gaiadr1.ucac4_original_valid, 18 columns,\n",
       " gaiadr1.urat1_original_valid, 19 columns,\n",
       " gaiadr1.gaia_source, 57 columns,\n",
       " gaiadr1.tgas_source, 59 columns,\n",
       " gaiadr2.aux_allwise_agn_gdr2_cross_id, 2 columns,\n",
       " gaiadr2.aux_iers_gdr2_cross_id, 2 columns,\n",
       " gaiadr2.aux_sso_orbit_residuals, 10 columns,\n",
       " gaiadr2.aux_sso_orbits, 19 columns,\n",
       " gaiadr2.dr1_neighbourhood, 5 columns,\n",
       " gaiadr2.allwise_best_neighbour, 8 columns,\n",
       " gaiadr2.allwise_neighbourhood, 6 columns,\n",
       " gaiadr2.apassdr9_best_neighbour, 8 columns,\n",
       " gaiadr2.apassdr9_neighbourhood, 6 columns,\n",
       " gaiadr2.gsc23_best_neighbour, 8 columns,\n",
       " gaiadr2.gsc23_neighbourhood, 6 columns,\n",
       " gaiadr2.hipparcos2_best_neighbour, 5 columns,\n",
       " gaiadr2.hipparcos2_neighbourhood, 5 columns,\n",
       " gaiadr2.panstarrs1_best_neighbour, 7 columns,\n",
       " gaiadr2.panstarrs1_neighbourhood, 5 columns,\n",
       " gaiadr2.ppmxl_best_neighbour, 8 columns,\n",
       " gaiadr2.ppmxl_neighbourhood, 6 columns,\n",
       " gaiadr2.ravedr5_best_neighbour, 6 columns,\n",
       " gaiadr2.ravedr5_neighbourhood, 6 columns,\n",
       " gaiadr2.sdssdr9_best_neighbour, 8 columns,\n",
       " gaiadr2.sdssdr9_neighbourhood, 6 columns,\n",
       " gaiadr2.tmass_best_neighbour, 8 columns,\n",
       " gaiadr2.tmass_neighbourhood, 6 columns,\n",
       " gaiadr2.tycho2_best_neighbour, 6 columns,\n",
       " gaiadr2.tycho2_neighbourhood, 6 columns,\n",
       " gaiadr2.urat1_best_neighbour, 8 columns,\n",
       " gaiadr2.urat1_neighbourhood, 6 columns,\n",
       " gaiadr2.sso_observation, 26 columns,\n",
       " gaiadr2.sso_source, 5 columns,\n",
       " gaiadr2.vari_cepheid, 47 columns,\n",
       " gaiadr2.vari_classifier_class_definition, 4 columns,\n",
       " gaiadr2.vari_classifier_definition, 3 columns,\n",
       " gaiadr2.vari_classifier_result, 5 columns,\n",
       " gaiadr2.vari_long_period_variable, 9 columns,\n",
       " gaiadr2.vari_rotation_modulation, 40 columns,\n",
       " gaiadr2.vari_rrlyrae, 44 columns,\n",
       " gaiadr2.vari_short_timescale, 9 columns,\n",
       " gaiadr2.vari_time_series_statistics, 44 columns,\n",
       " gaiadr2.panstarrs1_original_valid, 26 columns,\n",
       " gaiadr2.gaia_source, 96 columns]"
      ]
     },
     "execution_count": 3,
     "metadata": {},
     "output_type": "execute_result"
    }
   ],
   "source": [
    "tap.tables"
   ]
  },
  {
   "cell_type": "code",
   "execution_count": 4,
   "metadata": {},
   "outputs": [
    {
     "data": {
      "text/plain": [
       "[public.dual, 1 columns,\n",
       " public.hipparcos, 78 columns,\n",
       " public.hipparcos_newreduction, 43 columns,\n",
       " public.hubble_sc, 421 columns,\n",
       " public.igsl_source, 43 columns,\n",
       " public.igsl_source_catalog_ids, 12 columns,\n",
       " public.tycho2, 39 columns]"
      ]
     },
     "execution_count": 4,
     "metadata": {},
     "output_type": "execute_result"
    }
   ],
   "source": [
    "tap.tables.filter(schema='public')"
   ]
  },
  {
   "cell_type": "code",
   "execution_count": 5,
   "metadata": {},
   "outputs": [
    {
     "data": {
      "text/plain": [
       "[gaiadr1.gaia_source, 57 columns, gaiadr2.gaia_source, 96 columns]"
      ]
     },
     "execution_count": 5,
     "metadata": {},
     "output_type": "execute_result"
    }
   ],
   "source": [
    "tap.tables.filter(table='gaia_source')"
   ]
  },
  {
   "cell_type": "code",
   "execution_count": 9,
   "metadata": {},
   "outputs": [
    {
     "name": "stdout",
     "output_type": "stream",
     "text": [
      "This table has an entry for every Gaia observed source as listed in the\n",
      "Main Database accumulating catalogue version from which the catalogue\n",
      "release has been generated. It contains the basic source parameters,\n",
      "that is only final data (no epoch data) and no spectra (neither final\n",
      "nor epoch).\n"
     ]
    }
   ],
   "source": [
    "dr2 = tap.tables.filter(schema='gaiadr2', table='gaia_source')[0]\n",
    "print(dr2.description)"
   ]
  },
  {
   "cell_type": "code",
   "execution_count": 13,
   "metadata": {},
   "outputs": [
    {
     "data": {
      "text/html": [
       "<i>Table length=96</i>\n",
       "<table id=\"table34917915448\" class=\"table-striped table-bordered table-condensed\">\n",
       "<thead><tr><th>name</th><th>datatype</th><th>unit</th><th>short_description</th></tr></thead>\n",
       "<thead><tr><th>str32</th><th>str8</th><th>str16</th><th>str60</th></tr></thead>\n",
       "<tr><td>solution_id</td><td>BIGINT</td><td></td><td>Solution Identifier</td></tr>\n",
       "<tr><td>designation</td><td>VARCHAR</td><td></td><td>Unique source designation (unique across all Data Releases)</td></tr>\n",
       "<tr><td>source_id</td><td>BIGINT</td><td></td><td>Unique source identifier (unique within a particular Data Re</td></tr>\n",
       "<tr><td>random_index</td><td>BIGINT</td><td></td><td>Random index used to select subsets</td></tr>\n",
       "<tr><td>ref_epoch</td><td>DOUBLE</td><td>yr</td><td>Reference epoch</td></tr>\n",
       "<tr><td>ra</td><td>DOUBLE</td><td>deg</td><td>Right ascension</td></tr>\n",
       "<tr><td>ra_error</td><td>DOUBLE</td><td>mas</td><td>Standard error of right ascension</td></tr>\n",
       "<tr><td>dec</td><td>DOUBLE</td><td>deg</td><td>Declination</td></tr>\n",
       "<tr><td>dec_error</td><td>DOUBLE</td><td>mas</td><td>Standard error of declination</td></tr>\n",
       "<tr><td>parallax</td><td>DOUBLE</td><td>mas</td><td>Parallax</td></tr>\n",
       "<tr><td>...</td><td>...</td><td>...</td><td>...</td></tr>\n",
       "<tr><td>e_bp_min_rp_percentile_upper</td><td>REAL</td><td>mag</td><td>eBPminRPVal upper uncertainty</td></tr>\n",
       "<tr><td>flame_flags</td><td>BIGINT</td><td></td><td>Flags for the Apsis-FLAME results</td></tr>\n",
       "<tr><td>radius_val</td><td>REAL</td><td>solRad</td><td>stellar radius</td></tr>\n",
       "<tr><td>radius_percentile_lower</td><td>REAL</td><td>solRad</td><td>radiusVal lower uncertainty</td></tr>\n",
       "<tr><td>radius_percentile_upper</td><td>REAL</td><td>solRad</td><td>radiusVal upper uncertainty</td></tr>\n",
       "<tr><td>lum_val</td><td>REAL</td><td>solLum</td><td>stellar luminosity</td></tr>\n",
       "<tr><td>lum_percentile_lower</td><td>REAL</td><td>solLum</td><td>lumVal lower uncertainty</td></tr>\n",
       "<tr><td>lum_percentile_upper</td><td>REAL</td><td>solLum</td><td>lumVal upper uncertainty</td></tr>\n",
       "<tr><td>datalink_url</td><td>VARCHAR</td><td></td><td>datalink url</td></tr>\n",
       "<tr><td>epoch_photometry_url</td><td>VARCHAR</td><td></td><td>epoch photometry url</td></tr>\n",
       "</table>"
      ],
      "text/plain": [
       "<Table length=96>\n",
       "            name             ...\n",
       "           str32             ...\n",
       "---------------------------- ...\n",
       "                 solution_id ...\n",
       "                 designation ...\n",
       "                   source_id ...\n",
       "                random_index ...\n",
       "                   ref_epoch ...\n",
       "                          ra ...\n",
       "                    ra_error ...\n",
       "                         dec ...\n",
       "                   dec_error ...\n",
       "                    parallax ...\n",
       "                         ... ...\n",
       "e_bp_min_rp_percentile_upper ...\n",
       "                 flame_flags ...\n",
       "                  radius_val ...\n",
       "     radius_percentile_lower ...\n",
       "     radius_percentile_upper ...\n",
       "                     lum_val ...\n",
       "        lum_percentile_lower ...\n",
       "        lum_percentile_upper ...\n",
       "                datalink_url ...\n",
       "        epoch_photometry_url ..."
      ]
     },
     "execution_count": 13,
     "metadata": {},
     "output_type": "execute_result"
    }
   ],
   "source": [
    "dr2.as_table"
   ]
  },
  {
   "cell_type": "code",
   "execution_count": 15,
   "metadata": {},
   "outputs": [
    {
     "data": {
      "text/plain": [
       "[Column(name=\"solution_id\", unit=\"\", description=\"Solution Identifier\"),\n",
       " Column(name=\"designation\", unit=\"\", description=\"Unique source designation (uniqu\"...,\n",
       " Column(name=\"source_id\", unit=\"\", description=\"Unique source identifier (unique w\"...,\n",
       " Column(name=\"random_index\", unit=\"\", description=\"Random index used to select sub\"...,\n",
       " Column(name=\"ref_epoch\", unit=\"yr\", description=\"Reference epoch\")]"
      ]
     },
     "execution_count": 15,
     "metadata": {},
     "output_type": "execute_result"
    }
   ],
   "source": [
    "dr2.columns[:5]"
   ]
  },
  {
   "cell_type": "code",
   "execution_count": 22,
   "metadata": {},
   "outputs": [
    {
     "data": {
      "text/plain": [
       "Column(name=\"random_index\", unit=\"\", description=\"Random index used to select sub\"..."
      ]
     },
     "execution_count": 22,
     "metadata": {},
     "output_type": "execute_result"
    }
   ],
   "source": [
    "dr2.columns[3]"
   ]
  },
  {
   "cell_type": "code",
   "execution_count": 21,
   "metadata": {},
   "outputs": [
    {
     "name": "stdout",
     "output_type": "stream",
     "text": [
      "Column name: random_index\n",
      "unit: \n",
      "desription: Random index used to select subsets\n"
     ]
    }
   ],
   "source": [
    "print(dr2.columns[3])"
   ]
  },
  {
   "cell_type": "code",
   "execution_count": 23,
   "metadata": {},
   "outputs": [],
   "source": [
    "r = tap.query('select top 5 * from gaiadr1.gaia_source')"
   ]
  },
  {
   "cell_type": "code",
   "execution_count": 24,
   "metadata": {},
   "outputs": [
    {
     "data": {
      "text/html": [
       "<div>\n",
       "<style scoped>\n",
       "    .dataframe tbody tr th:only-of-type {\n",
       "        vertical-align: middle;\n",
       "    }\n",
       "\n",
       "    .dataframe tbody tr th {\n",
       "        vertical-align: top;\n",
       "    }\n",
       "\n",
       "    .dataframe thead th {\n",
       "        text-align: right;\n",
       "    }\n",
       "</style>\n",
       "<table border=\"1\" class=\"dataframe\">\n",
       "  <thead>\n",
       "    <tr style=\"text-align: right;\">\n",
       "      <th></th>\n",
       "      <th>solution_id</th>\n",
       "      <th>source_id</th>\n",
       "      <th>random_index</th>\n",
       "      <th>ref_epoch</th>\n",
       "      <th>ra</th>\n",
       "      <th>ra_error</th>\n",
       "      <th>dec</th>\n",
       "      <th>dec_error</th>\n",
       "      <th>parallax</th>\n",
       "      <th>parallax_error</th>\n",
       "      <th>...</th>\n",
       "      <th>scan_direction_mean_k4</th>\n",
       "      <th>phot_g_n_obs</th>\n",
       "      <th>phot_g_mean_flux</th>\n",
       "      <th>phot_g_mean_flux_error</th>\n",
       "      <th>phot_g_mean_mag</th>\n",
       "      <th>phot_variable_flag</th>\n",
       "      <th>l</th>\n",
       "      <th>b</th>\n",
       "      <th>ecl_lon</th>\n",
       "      <th>ecl_lat</th>\n",
       "    </tr>\n",
       "  </thead>\n",
       "  <tbody>\n",
       "    <tr>\n",
       "      <th>0</th>\n",
       "      <td>1635378410781933568</td>\n",
       "      <td>4166407173800868608</td>\n",
       "      <td>760961326</td>\n",
       "      <td>2015.0</td>\n",
       "      <td>262.989326</td>\n",
       "      <td>3.742595</td>\n",
       "      <td>-10.515530</td>\n",
       "      <td>3.213440</td>\n",
       "      <td>NaN</td>\n",
       "      <td>NaN</td>\n",
       "      <td>...</td>\n",
       "      <td>-43.338066</td>\n",
       "      <td>67</td>\n",
       "      <td>155.481886</td>\n",
       "      <td>1.926352</td>\n",
       "      <td>20.045571</td>\n",
       "      <td>NOT_AVAILABLE</td>\n",
       "      <td>14.130678</td>\n",
       "      <td>12.368568</td>\n",
       "      <td>262.932481</td>\n",
       "      <td>12.751920</td>\n",
       "    </tr>\n",
       "    <tr>\n",
       "      <th>1</th>\n",
       "      <td>1635378410781933568</td>\n",
       "      <td>4148089005208761472</td>\n",
       "      <td>842820910</td>\n",
       "      <td>2015.0</td>\n",
       "      <td>267.928335</td>\n",
       "      <td>1.229018</td>\n",
       "      <td>-15.300289</td>\n",
       "      <td>1.129408</td>\n",
       "      <td>NaN</td>\n",
       "      <td>NaN</td>\n",
       "      <td>...</td>\n",
       "      <td>43.816254</td>\n",
       "      <td>69</td>\n",
       "      <td>544.384307</td>\n",
       "      <td>2.818229</td>\n",
       "      <td>18.685006</td>\n",
       "      <td>NOT_AVAILABLE</td>\n",
       "      <td>12.447268</td>\n",
       "      <td>5.788742</td>\n",
       "      <td>267.981542</td>\n",
       "      <td>8.124478</td>\n",
       "    </tr>\n",
       "    <tr>\n",
       "      <th>2</th>\n",
       "      <td>1635378410781933568</td>\n",
       "      <td>4148112056229094400</td>\n",
       "      <td>739228543</td>\n",
       "      <td>2015.0</td>\n",
       "      <td>266.560022</td>\n",
       "      <td>0.582452</td>\n",
       "      <td>-15.963665</td>\n",
       "      <td>0.578399</td>\n",
       "      <td>NaN</td>\n",
       "      <td>NaN</td>\n",
       "      <td>...</td>\n",
       "      <td>44.931805</td>\n",
       "      <td>76</td>\n",
       "      <td>2109.457855</td>\n",
       "      <td>6.515567</td>\n",
       "      <td>17.214343</td>\n",
       "      <td>NOT_AVAILABLE</td>\n",
       "      <td>11.200458</td>\n",
       "      <td>6.588702</td>\n",
       "      <td>266.664766</td>\n",
       "      <td>7.435798</td>\n",
       "    </tr>\n",
       "    <tr>\n",
       "      <th>3</th>\n",
       "      <td>1635378410781933568</td>\n",
       "      <td>4148035919388377088</td>\n",
       "      <td>844525883</td>\n",
       "      <td>2015.0</td>\n",
       "      <td>267.762664</td>\n",
       "      <td>2.162014</td>\n",
       "      <td>-15.793053</td>\n",
       "      <td>4.029215</td>\n",
       "      <td>NaN</td>\n",
       "      <td>NaN</td>\n",
       "      <td>...</td>\n",
       "      <td>43.997116</td>\n",
       "      <td>67</td>\n",
       "      <td>385.696171</td>\n",
       "      <td>2.876878</td>\n",
       "      <td>19.059157</td>\n",
       "      <td>NOT_AVAILABLE</td>\n",
       "      <td>11.938630</td>\n",
       "      <td>5.678470</td>\n",
       "      <td>267.827940</td>\n",
       "      <td>7.629361</td>\n",
       "    </tr>\n",
       "    <tr>\n",
       "      <th>4</th>\n",
       "      <td>1635378410781933568</td>\n",
       "      <td>4148087007979299968</td>\n",
       "      <td>840804044</td>\n",
       "      <td>2015.0</td>\n",
       "      <td>267.708518</td>\n",
       "      <td>0.339342</td>\n",
       "      <td>-15.324788</td>\n",
       "      <td>0.327136</td>\n",
       "      <td>NaN</td>\n",
       "      <td>NaN</td>\n",
       "      <td>...</td>\n",
       "      <td>-44.341362</td>\n",
       "      <td>87</td>\n",
       "      <td>4980.463287</td>\n",
       "      <td>12.385516</td>\n",
       "      <td>16.281596</td>\n",
       "      <td>NOT_AVAILABLE</td>\n",
       "      <td>12.318691</td>\n",
       "      <td>5.959595</td>\n",
       "      <td>267.767790</td>\n",
       "      <td>8.096739</td>\n",
       "    </tr>\n",
       "  </tbody>\n",
       "</table>\n",
       "<p>5 rows × 57 columns</p>\n",
       "</div>"
      ],
      "text/plain": [
       "           solution_id            source_id  random_index  ref_epoch  \\\n",
       "0  1635378410781933568  4166407173800868608     760961326     2015.0   \n",
       "1  1635378410781933568  4148089005208761472     842820910     2015.0   \n",
       "2  1635378410781933568  4148112056229094400     739228543     2015.0   \n",
       "3  1635378410781933568  4148035919388377088     844525883     2015.0   \n",
       "4  1635378410781933568  4148087007979299968     840804044     2015.0   \n",
       "\n",
       "           ra  ra_error        dec  dec_error  parallax  parallax_error  \\\n",
       "0  262.989326  3.742595 -10.515530   3.213440       NaN             NaN   \n",
       "1  267.928335  1.229018 -15.300289   1.129408       NaN             NaN   \n",
       "2  266.560022  0.582452 -15.963665   0.578399       NaN             NaN   \n",
       "3  267.762664  2.162014 -15.793053   4.029215       NaN             NaN   \n",
       "4  267.708518  0.339342 -15.324788   0.327136       NaN             NaN   \n",
       "\n",
       "     ...      scan_direction_mean_k4  phot_g_n_obs  phot_g_mean_flux  \\\n",
       "0    ...                  -43.338066            67        155.481886   \n",
       "1    ...                   43.816254            69        544.384307   \n",
       "2    ...                   44.931805            76       2109.457855   \n",
       "3    ...                   43.997116            67        385.696171   \n",
       "4    ...                  -44.341362            87       4980.463287   \n",
       "\n",
       "   phot_g_mean_flux_error  phot_g_mean_mag  phot_variable_flag          l  \\\n",
       "0                1.926352        20.045571       NOT_AVAILABLE  14.130678   \n",
       "1                2.818229        18.685006       NOT_AVAILABLE  12.447268   \n",
       "2                6.515567        17.214343       NOT_AVAILABLE  11.200458   \n",
       "3                2.876878        19.059157       NOT_AVAILABLE  11.938630   \n",
       "4               12.385516        16.281596       NOT_AVAILABLE  12.318691   \n",
       "\n",
       "           b     ecl_lon    ecl_lat  \n",
       "0  12.368568  262.932481  12.751920  \n",
       "1   5.788742  267.981542   8.124478  \n",
       "2   6.588702  266.664766   7.435798  \n",
       "3   5.678470  267.827940   7.629361  \n",
       "4   5.959595  267.767790   8.096739  \n",
       "\n",
       "[5 rows x 57 columns]"
      ]
     },
     "execution_count": 24,
     "metadata": {},
     "output_type": "execute_result"
    }
   ],
   "source": [
    "r"
   ]
  },
  {
   "cell_type": "code",
   "execution_count": 27,
   "metadata": {},
   "outputs": [
    {
     "ename": "AttributeError",
     "evalue": "type object 'Job' has no attribute 'from_xml'",
     "output_type": "error",
     "traceback": [
      "\u001b[0;31m---------------------------------------------------------------------------\u001b[0m",
      "\u001b[0;31mAttributeError\u001b[0m                            Traceback (most recent call last)",
      "\u001b[0;32m<ipython-input-27-ed360e40f6c1>\u001b[0m in \u001b[0;36m<module>\u001b[0;34m\u001b[0m\n\u001b[0;32m----> 1\u001b[0;31m \u001b[0mj\u001b[0m \u001b[0;34m=\u001b[0m \u001b[0mtap\u001b[0m\u001b[0;34m.\u001b[0m\u001b[0mquery_async\u001b[0m\u001b[0;34m(\u001b[0m\u001b[0;34m'select top 1000 * from gaiadr1.gaia_source;'\u001b[0m\u001b[0;34m)\u001b[0m\u001b[0;34m\u001b[0m\u001b[0m\n\u001b[0m",
      "\u001b[0;32m~/projects/gapipes/gapipes/gaia/core.py\u001b[0m in \u001b[0;36mquery_async\u001b[0;34m(self, query, name, upload_resource, upload_table_name, output_format, autorun)\u001b[0m\n\u001b[1;32m    206\u001b[0m             \u001b[0mupload_table_name\u001b[0m\u001b[0;34m=\u001b[0m\u001b[0mupload_table_name\u001b[0m\u001b[0;34m,\u001b[0m \u001b[0moutput_format\u001b[0m\u001b[0;34m=\u001b[0m\u001b[0moutput_format\u001b[0m\u001b[0;34m,\u001b[0m\u001b[0;34m\u001b[0m\u001b[0m\n\u001b[1;32m    207\u001b[0m             async_=True)\n\u001b[0;32m--> 208\u001b[0;31m         \u001b[0;31m# TODO: parse response and return Job\u001b[0m\u001b[0;34m\u001b[0m\u001b[0;34m\u001b[0m\u001b[0m\n\u001b[0m\u001b[1;32m    209\u001b[0m         \u001b[0;32mreturn\u001b[0m \u001b[0mJob\u001b[0m\u001b[0;34m.\u001b[0m\u001b[0mfrom_xml\u001b[0m\u001b[0;34m(\u001b[0m\u001b[0mr\u001b[0m\u001b[0;34m.\u001b[0m\u001b[0mtext\u001b[0m\u001b[0;34m)\u001b[0m\u001b[0;34m\u001b[0m\u001b[0m\n\u001b[1;32m    210\u001b[0m \u001b[0;34m\u001b[0m\u001b[0m\n",
      "\u001b[0;31mAttributeError\u001b[0m: type object 'Job' has no attribute 'from_xml'"
     ]
    }
   ],
   "source": [
    "j = tap.query_async('select top 1000 * from gaiadr1.gaia_source;')"
   ]
  },
  {
   "cell_type": "code",
   "execution_count": null,
   "metadata": {},
   "outputs": [],
   "source": []
  }
 ],
 "metadata": {
  "kernelspec": {
   "display_name": "Python 3",
   "language": "python",
   "name": "python3"
  },
  "language_info": {
   "codemirror_mode": {
    "name": "ipython",
    "version": 3
   },
   "file_extension": ".py",
   "mimetype": "text/x-python",
   "name": "python",
   "nbconvert_exporter": "python",
   "pygments_lexer": "ipython3",
   "version": "3.7.0"
  }
 },
 "nbformat": 4,
 "nbformat_minor": 2
}
