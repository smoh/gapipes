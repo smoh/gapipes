{
 "cells": [
  {
   "cell_type": "markdown",
   "metadata": {},
   "source": [
    "# Getting started with Gaia TAP+ Service"
   ]
  },
  {
   "cell_type": "markdown",
   "metadata": {},
   "source": [
    "In this tutorial, we go through how to access, examine and use Gaia TAP+ service using **gapipes**.\n",
    "For databases as large as Gaia (and many other large astronomical surveys for that matter),\n",
    "downloading them as a set of files is no longer practical.\n",
    "\n",
    "The Table Access Protocol (TAP) was designed for the purpse of communicating general tabular data by the [IVOA](http://www.ivoa.net/).\n",
    "For [Gaia](http://gea.esac.esa.int/archive/) and other ESA Services, the ESDC extended this protocol, called TAP+.\n",
    "The extension includes user table space, sharing tables among groups, and listing jobs."
   ]
  },
  {
   "cell_type": "markdown",
   "metadata": {},
   "source": [
    "In **gapipes**, there are two core classes that interfaces these services:\n",
    "one for plain TAP (`gapipes.TAP`) and one for GaiaTAP+ (`gapipes.GaiaTapPlus`).\n",
    "While they are written so that you can point at any available service,\n",
    "a default instance `gapipes.gaia` is already defined pointing at [the official Gaia Archive](#)."
   ]
  },
  {
   "cell_type": "code",
   "execution_count": 1,
   "metadata": {},
   "outputs": [
    {
     "data": {
      "text/plain": [
       "GaiaTapPlus(\"gea.esac.esa.int\", \"/tap-server/tap\", \"https\", 443)"
      ]
     },
     "execution_count": 1,
     "metadata": {},
     "output_type": "execute_result"
    }
   ],
   "source": [
    "import gapipes as gp\n",
    "\n",
    "gp.gaia"
   ]
  },
  {
   "cell_type": "markdown",
   "metadata": {},
   "source": [
    "## Inspecting table meta data\n",
    "\n",
    "The first thing you want to do before diving in is of course learn a little bit what the database contains: what tables and table columns are available. Note that there is an extensive [documentation](http://gea.esac.esa.int/archive/documentation/index.html) available online as well."
   ]
  },
  {
   "cell_type": "code",
   "execution_count": 2,
   "metadata": {},
   "outputs": [
    {
     "data": {
      "text/plain": [
       "[public.dual, 1 columns,\n",
       " public.hipparcos, 78 columns,\n",
       " public.hipparcos_newreduction, 43 columns,\n",
       " public.hubble_sc, 421 columns,\n",
       " public.igsl_source, 43 columns,\n",
       " public.igsl_source_catalog_ids, 12 columns,\n",
       " public.tycho2, 39 columns,\n",
       " gaiadr1.aux_qso_icrf2_match, 12 columns,\n",
       " gaiadr1.ext_phot_zero_point, 7 columns,\n",
       " gaiadr1.allwise_best_neighbour, 8 columns,\n",
       " gaiadr1.allwise_neighbourhood, 6 columns,\n",
       " gaiadr1.gsc23_best_neighbour, 8 columns,\n",
       " gaiadr1.gsc23_neighbourhood, 6 columns,\n",
       " gaiadr1.ppmxl_best_neighbour, 8 columns,\n",
       " gaiadr1.ppmxl_neighbourhood, 6 columns,\n",
       " gaiadr1.sdss_dr9_best_neighbour, 8 columns,\n",
       " gaiadr1.sdss_dr9_neighbourhood, 6 columns,\n",
       " gaiadr1.tmass_best_neighbour, 8 columns,\n",
       " gaiadr1.tmass_neighbourhood, 6 columns,\n",
       " gaiadr1.ucac4_best_neighbour, 8 columns,\n",
       " gaiadr1.ucac4_neighbourhood, 6 columns,\n",
       " gaiadr1.urat1_best_neighbour, 8 columns,\n",
       " gaiadr1.urat1_neighbourhood, 6 columns,\n",
       " gaiadr1.cepheid, 18 columns,\n",
       " gaiadr1.phot_variable_time_series_gfov, 7 columns,\n",
       " gaiadr1.phot_variable_time_series_gfov_statistical_parameters, 16 columns,\n",
       " gaiadr1.rrlyrae, 16 columns,\n",
       " gaiadr1.variable_summary, 4 columns,\n",
       " gaiadr1.allwise_original_valid, 32 columns,\n",
       " gaiadr1.gsc23_original_valid, 25 columns,\n",
       " gaiadr1.ppmxl_original_valid, 19 columns,\n",
       " gaiadr1.sdssdr9_original_valid, 20 columns,\n",
       " gaiadr1.tmass_original_valid, 16 columns,\n",
       " gaiadr1.ucac4_original_valid, 18 columns,\n",
       " gaiadr1.urat1_original_valid, 19 columns,\n",
       " gaiadr1.gaia_source, 57 columns,\n",
       " gaiadr1.tgas_source, 59 columns,\n",
       " gaiadr2.aux_allwise_agn_gdr2_cross_id, 2 columns,\n",
       " gaiadr2.aux_iers_gdr2_cross_id, 2 columns,\n",
       " gaiadr2.aux_sso_orbit_residuals, 10 columns,\n",
       " gaiadr2.aux_sso_orbits, 19 columns,\n",
       " gaiadr2.dr1_neighbourhood, 5 columns,\n",
       " gaiadr2.allwise_best_neighbour, 8 columns,\n",
       " gaiadr2.allwise_neighbourhood, 6 columns,\n",
       " gaiadr2.apassdr9_best_neighbour, 8 columns,\n",
       " gaiadr2.apassdr9_neighbourhood, 6 columns,\n",
       " gaiadr2.gsc23_best_neighbour, 8 columns,\n",
       " gaiadr2.gsc23_neighbourhood, 6 columns,\n",
       " gaiadr2.hipparcos2_best_neighbour, 5 columns,\n",
       " gaiadr2.hipparcos2_neighbourhood, 5 columns,\n",
       " gaiadr2.panstarrs1_best_neighbour, 7 columns,\n",
       " gaiadr2.panstarrs1_neighbourhood, 5 columns,\n",
       " gaiadr2.ppmxl_best_neighbour, 8 columns,\n",
       " gaiadr2.ppmxl_neighbourhood, 6 columns,\n",
       " gaiadr2.ravedr5_best_neighbour, 6 columns,\n",
       " gaiadr2.ravedr5_neighbourhood, 6 columns,\n",
       " gaiadr2.sdssdr9_best_neighbour, 8 columns,\n",
       " gaiadr2.sdssdr9_neighbourhood, 6 columns,\n",
       " gaiadr2.tmass_best_neighbour, 8 columns,\n",
       " gaiadr2.tmass_neighbourhood, 6 columns,\n",
       " gaiadr2.tycho2_best_neighbour, 6 columns,\n",
       " gaiadr2.tycho2_neighbourhood, 6 columns,\n",
       " gaiadr2.urat1_best_neighbour, 8 columns,\n",
       " gaiadr2.urat1_neighbourhood, 6 columns,\n",
       " gaiadr2.sso_observation, 26 columns,\n",
       " gaiadr2.sso_source, 5 columns,\n",
       " gaiadr2.vari_cepheid, 47 columns,\n",
       " gaiadr2.vari_classifier_class_definition, 4 columns,\n",
       " gaiadr2.vari_classifier_definition, 3 columns,\n",
       " gaiadr2.vari_classifier_result, 5 columns,\n",
       " gaiadr2.vari_long_period_variable, 9 columns,\n",
       " gaiadr2.vari_rotation_modulation, 40 columns,\n",
       " gaiadr2.vari_rrlyrae, 44 columns,\n",
       " gaiadr2.vari_short_timescale, 9 columns,\n",
       " gaiadr2.vari_time_series_statistics, 44 columns,\n",
       " gaiadr2.panstarrs1_original_valid, 26 columns,\n",
       " gaiadr2.gaia_source, 96 columns]"
      ]
     },
     "execution_count": 2,
     "metadata": {},
     "output_type": "execute_result"
    }
   ],
   "source": [
    "gp.gaia.tables"
   ]
  },
  {
   "cell_type": "markdown",
   "metadata": {},
   "source": [
    "You can filter table list by schema or table name."
   ]
  },
  {
   "cell_type": "code",
   "execution_count": 3,
   "metadata": {},
   "outputs": [
    {
     "data": {
      "text/plain": [
       "[public.dual, 1 columns,\n",
       " public.hipparcos, 78 columns,\n",
       " public.hipparcos_newreduction, 43 columns,\n",
       " public.hubble_sc, 421 columns,\n",
       " public.igsl_source, 43 columns,\n",
       " public.igsl_source_catalog_ids, 12 columns,\n",
       " public.tycho2, 39 columns]"
      ]
     },
     "execution_count": 3,
     "metadata": {},
     "output_type": "execute_result"
    }
   ],
   "source": [
    "gp.gaia.tables.filter(schema='public')"
   ]
  },
  {
   "cell_type": "code",
   "execution_count": 4,
   "metadata": {},
   "outputs": [
    {
     "data": {
      "text/plain": [
       "[gaiadr1.gaia_source, 57 columns, gaiadr2.gaia_source, 96 columns]"
      ]
     },
     "execution_count": 4,
     "metadata": {},
     "output_type": "execute_result"
    }
   ],
   "source": [
    "gp.gaia.tables.filter(table='gaia_source')"
   ]
  },
  {
   "cell_type": "markdown",
   "metadata": {},
   "source": [
    "Have a look at one particular table in detail."
   ]
  },
  {
   "cell_type": "code",
   "execution_count": 5,
   "metadata": {},
   "outputs": [
    {
     "name": "stdout",
     "output_type": "stream",
     "text": [
      "This table has an entry for every Gaia observed source as listed in the\n",
      "Main Database accumulating catalogue version from which the catalogue\n",
      "release has been generated. It contains the basic source parameters,\n",
      "that is only final data (no epoch data) and no spectra (neither final\n",
      "nor epoch).\n"
     ]
    }
   ],
   "source": [
    "t = gp.gaia.tables.filter(table='gaia_source')[0]\n",
    "print(t.description)"
   ]
  },
  {
   "cell_type": "code",
   "execution_count": 6,
   "metadata": {},
   "outputs": [
    {
     "name": "stdout",
     "output_type": "stream",
     "text": [
      "total number of columns = 57\n"
     ]
    },
    {
     "data": {
      "text/plain": [
       "[Column(name=\"solution_id\", unit=\"\", description=\"All Gaia data processed by the D\"...,\n",
       " Column(name=\"source_id\", unit=\"\", description=\"A unique single numerical identifi\"...,\n",
       " Column(name=\"random_index\", unit=\"\", description=\"Random index which can be used \"...,\n",
       " Column(name=\"ref_epoch\", unit=\"yr\", description=\"Reference epoch to which the ast\"...,\n",
       " Column(name=\"ra\", unit=\"deg\", description=\"Barycentric right ascension \\alpha of \"...]"
      ]
     },
     "execution_count": 6,
     "metadata": {},
     "output_type": "execute_result"
    }
   ],
   "source": [
    "print('total number of columns =', len(t.columns))\n",
    "t.columns[:5]"
   ]
  },
  {
   "cell_type": "markdown",
   "metadata": {},
   "source": [
    "A column description can be quite long. Do `print` to get the long description or access `.description`."
   ]
  },
  {
   "cell_type": "code",
   "execution_count": 7,
   "metadata": {},
   "outputs": [
    {
     "name": "stdout",
     "output_type": "stream",
     "text": [
      "Column name: source_id\n",
      "unit: \n",
      "desription: A unique single numerical identifier of the source.\n",
      "\n",
      "For the contents of Gaia DR1, which does not include Solar System\n",
      "objects, the source ID consists consists of a 64-bit integer, least\n",
      "significant bit = 1 and most significant bit = 64, comprising:\n",
      "\n",
      "-   a HEALPix index number (sky pixel) in bits 36 - 63; by definition\n",
      "    the smallest HEALPix index number is zero.\n",
      "\n",
      "-   a 2-bit Data Processing Centre code in bits 34 - 35; for example\n",
      "    MOD(sourceId / 4294967296, 8) can be used to distinguish between\n",
      "    sources initialised via the Initial Gaia Source List by the Torino\n",
      "    DPC (code = 0) and sources otherwise detected and assigned by Gaia\n",
      "    observations (code >0)\n",
      "\n",
      "-   a 25-bit plus 7 bit sequence number within the HEALPix pixel in bits\n",
      "    1 - 32 split into:\n",
      "\n",
      "    -   a 25 bit running number in bits 8 – 32; the running numbers are\n",
      "        defined to be positive, i.e. never zero (except in the case of\n",
      "        forced empty windows)\n",
      "\n",
      "    -   a 7-bit component number in bits 1 – 7\n",
      "\n",
      "-   one spare bit in bit 33\n",
      "\n",
      "This means that the HEALpix index level 12 of a given source is\n",
      "contained in the most significant bits. HEALpix index of 12 and lower\n",
      "levels can thus be retrieved as follows:\n",
      "\n",
      "-   HEALpix level 12 = source_id / 34359738368\n",
      "\n",
      "-   HEALpix level 11 = source_id / 137438953472\n",
      "\n",
      "-   HEALpix level 10 = source_id / 549755813888\n",
      "\n",
      "-   HEALpix level n = source_id / 2 ^ 35 * 4 ^ (12 - level).\n",
      "\n",
      "Additional details can be found in the Gaia DPAC public document Source\n",
      "Identifiers — Assignment and Usage throughout DPAC (document code\n",
      "GAIA–C3–TN–ARI–BAS–020) available from\n"
     ]
    }
   ],
   "source": [
    "print(t.columns[1])"
   ]
  },
  {
   "cell_type": "markdown",
   "metadata": {},
   "source": [
    "### Getting information about specific table(s)\n",
    "\n",
    "You can also get information about specific tables with GaiaTAP+."
   ]
  },
  {
   "cell_type": "code",
   "execution_count": 8,
   "metadata": {},
   "outputs": [
    {
     "data": {
      "text/plain": [
       "[gaiadr2.gaia_source, 96 columns]"
      ]
     },
     "execution_count": 8,
     "metadata": {},
     "output_type": "execute_result"
    }
   ],
   "source": [
    "gp.gaia.get_table_info('gaiadr2.gaia_source')"
   ]
  },
  {
   "cell_type": "markdown",
   "metadata": {},
   "source": [
    "## Query\n",
    "\n",
    "There are two kinds of queries supported: synchronous and asynchonous.\n",
    "\n",
    "Let's start with synchonous queries.\n",
    "\n",
    "### Synchronous queries\n",
    "\n",
    "Use `.query` to send an ADQL query to the database. The default behaviour is to request output in csv format and read resulting table as pandas.DataFrame."
   ]
  },
  {
   "cell_type": "code",
   "execution_count": 9,
   "metadata": {},
   "outputs": [
    {
     "name": "stdout",
     "output_type": "stream",
     "text": [
      "<class 'pandas.core.frame.DataFrame'>\n"
     ]
    },
    {
     "data": {
      "text/html": [
       "<div>\n",
       "<style scoped>\n",
       "    .dataframe tbody tr th:only-of-type {\n",
       "        vertical-align: middle;\n",
       "    }\n",
       "\n",
       "    .dataframe tbody tr th {\n",
       "        vertical-align: top;\n",
       "    }\n",
       "\n",
       "    .dataframe thead th {\n",
       "        text-align: right;\n",
       "    }\n",
       "</style>\n",
       "<table border=\"1\" class=\"dataframe\">\n",
       "  <thead>\n",
       "    <tr style=\"text-align: right;\">\n",
       "      <th></th>\n",
       "      <th>solution_id</th>\n",
       "      <th>source_id</th>\n",
       "      <th>random_index</th>\n",
       "      <th>ref_epoch</th>\n",
       "      <th>ra</th>\n",
       "      <th>ra_error</th>\n",
       "      <th>dec</th>\n",
       "      <th>dec_error</th>\n",
       "      <th>parallax</th>\n",
       "      <th>parallax_error</th>\n",
       "      <th>...</th>\n",
       "      <th>scan_direction_mean_k4</th>\n",
       "      <th>phot_g_n_obs</th>\n",
       "      <th>phot_g_mean_flux</th>\n",
       "      <th>phot_g_mean_flux_error</th>\n",
       "      <th>phot_g_mean_mag</th>\n",
       "      <th>phot_variable_flag</th>\n",
       "      <th>l</th>\n",
       "      <th>b</th>\n",
       "      <th>ecl_lon</th>\n",
       "      <th>ecl_lat</th>\n",
       "    </tr>\n",
       "  </thead>\n",
       "  <tbody>\n",
       "    <tr>\n",
       "      <th>0</th>\n",
       "      <td>1635378410781933568</td>\n",
       "      <td>4256392996422268672</td>\n",
       "      <td>887949822</td>\n",
       "      <td>2015.0</td>\n",
       "      <td>278.834034</td>\n",
       "      <td>1.110744</td>\n",
       "      <td>-5.146204</td>\n",
       "      <td>1.134282</td>\n",
       "      <td>NaN</td>\n",
       "      <td>NaN</td>\n",
       "      <td>...</td>\n",
       "      <td>43.585240</td>\n",
       "      <td>88</td>\n",
       "      <td>502.879304</td>\n",
       "      <td>4.105872</td>\n",
       "      <td>18.771111</td>\n",
       "      <td>NOT_AVAILABLE</td>\n",
       "      <td>26.516527</td>\n",
       "      <td>1.221884</td>\n",
       "      <td>279.255322</td>\n",
       "      <td>18.009702</td>\n",
       "    </tr>\n",
       "    <tr>\n",
       "      <th>1</th>\n",
       "      <td>1635378410781933568</td>\n",
       "      <td>4255847398169079168</td>\n",
       "      <td>857771074</td>\n",
       "      <td>2015.0</td>\n",
       "      <td>283.965713</td>\n",
       "      <td>3.945827</td>\n",
       "      <td>-2.911484</td>\n",
       "      <td>3.332565</td>\n",
       "      <td>NaN</td>\n",
       "      <td>NaN</td>\n",
       "      <td>...</td>\n",
       "      <td>43.001995</td>\n",
       "      <td>41</td>\n",
       "      <td>192.767590</td>\n",
       "      <td>2.311690</td>\n",
       "      <td>19.812185</td>\n",
       "      <td>NOT_AVAILABLE</td>\n",
       "      <td>30.843430</td>\n",
       "      <td>-2.310847</td>\n",
       "      <td>284.844260</td>\n",
       "      <td>19.811013</td>\n",
       "    </tr>\n",
       "    <tr>\n",
       "      <th>2</th>\n",
       "      <td>1635378410781933568</td>\n",
       "      <td>4255780804671530624</td>\n",
       "      <td>1095456361</td>\n",
       "      <td>2015.0</td>\n",
       "      <td>283.967045</td>\n",
       "      <td>0.751117</td>\n",
       "      <td>-3.332992</td>\n",
       "      <td>0.812316</td>\n",
       "      <td>NaN</td>\n",
       "      <td>NaN</td>\n",
       "      <td>...</td>\n",
       "      <td>43.951393</td>\n",
       "      <td>60</td>\n",
       "      <td>1354.252825</td>\n",
       "      <td>4.689919</td>\n",
       "      <td>17.695521</td>\n",
       "      <td>NOT_AVAILABLE</td>\n",
       "      <td>30.468306</td>\n",
       "      <td>-2.503721</td>\n",
       "      <td>284.800066</td>\n",
       "      <td>19.391564</td>\n",
       "    </tr>\n",
       "    <tr>\n",
       "      <th>3</th>\n",
       "      <td>1635378410781933568</td>\n",
       "      <td>4256030806134086912</td>\n",
       "      <td>142585630</td>\n",
       "      <td>2015.0</td>\n",
       "      <td>278.127968</td>\n",
       "      <td>3.922400</td>\n",
       "      <td>-6.255799</td>\n",
       "      <td>3.995020</td>\n",
       "      <td>NaN</td>\n",
       "      <td>NaN</td>\n",
       "      <td>...</td>\n",
       "      <td>42.276030</td>\n",
       "      <td>43</td>\n",
       "      <td>205.891747</td>\n",
       "      <td>2.645436</td>\n",
       "      <td>19.740673</td>\n",
       "      <td>NOT_AVAILABLE</td>\n",
       "      <td>25.207716</td>\n",
       "      <td>1.334400</td>\n",
       "      <td>278.448581</td>\n",
       "      <td>16.945423</td>\n",
       "    </tr>\n",
       "    <tr>\n",
       "      <th>4</th>\n",
       "      <td>1635378410781933568</td>\n",
       "      <td>4256181301776158464</td>\n",
       "      <td>838669987</td>\n",
       "      <td>2015.0</td>\n",
       "      <td>279.120565</td>\n",
       "      <td>0.875364</td>\n",
       "      <td>-5.487836</td>\n",
       "      <td>0.916942</td>\n",
       "      <td>NaN</td>\n",
       "      <td>NaN</td>\n",
       "      <td>...</td>\n",
       "      <td>42.512657</td>\n",
       "      <td>79</td>\n",
       "      <td>630.588364</td>\n",
       "      <td>7.517914</td>\n",
       "      <td>18.525405</td>\n",
       "      <td>NOT_AVAILABLE</td>\n",
       "      <td>26.344246</td>\n",
       "      <td>0.811475</td>\n",
       "      <td>279.530979</td>\n",
       "      <td>17.650195</td>\n",
       "    </tr>\n",
       "  </tbody>\n",
       "</table>\n",
       "<p>5 rows × 57 columns</p>\n",
       "</div>"
      ],
      "text/plain": [
       "           solution_id            source_id  random_index  ref_epoch  \\\n",
       "0  1635378410781933568  4256392996422268672     887949822     2015.0   \n",
       "1  1635378410781933568  4255847398169079168     857771074     2015.0   \n",
       "2  1635378410781933568  4255780804671530624    1095456361     2015.0   \n",
       "3  1635378410781933568  4256030806134086912     142585630     2015.0   \n",
       "4  1635378410781933568  4256181301776158464     838669987     2015.0   \n",
       "\n",
       "           ra  ra_error       dec  dec_error  parallax  parallax_error  \\\n",
       "0  278.834034  1.110744 -5.146204   1.134282       NaN             NaN   \n",
       "1  283.965713  3.945827 -2.911484   3.332565       NaN             NaN   \n",
       "2  283.967045  0.751117 -3.332992   0.812316       NaN             NaN   \n",
       "3  278.127968  3.922400 -6.255799   3.995020       NaN             NaN   \n",
       "4  279.120565  0.875364 -5.487836   0.916942       NaN             NaN   \n",
       "\n",
       "     ...      scan_direction_mean_k4  phot_g_n_obs  phot_g_mean_flux  \\\n",
       "0    ...                   43.585240            88        502.879304   \n",
       "1    ...                   43.001995            41        192.767590   \n",
       "2    ...                   43.951393            60       1354.252825   \n",
       "3    ...                   42.276030            43        205.891747   \n",
       "4    ...                   42.512657            79        630.588364   \n",
       "\n",
       "   phot_g_mean_flux_error  phot_g_mean_mag  phot_variable_flag          l  \\\n",
       "0                4.105872        18.771111       NOT_AVAILABLE  26.516527   \n",
       "1                2.311690        19.812185       NOT_AVAILABLE  30.843430   \n",
       "2                4.689919        17.695521       NOT_AVAILABLE  30.468306   \n",
       "3                2.645436        19.740673       NOT_AVAILABLE  25.207716   \n",
       "4                7.517914        18.525405       NOT_AVAILABLE  26.344246   \n",
       "\n",
       "          b     ecl_lon    ecl_lat  \n",
       "0  1.221884  279.255322  18.009702  \n",
       "1 -2.310847  284.844260  19.811013  \n",
       "2 -2.503721  284.800066  19.391564  \n",
       "3  1.334400  278.448581  16.945423  \n",
       "4  0.811475  279.530979  17.650195  \n",
       "\n",
       "[5 rows x 57 columns]"
      ]
     },
     "execution_count": 9,
     "metadata": {},
     "output_type": "execute_result"
    }
   ],
   "source": [
    "r = gp.gaia.query('select top 100 * from gaiadr1.gaia_source', output_format='csv')\n",
    "print(type(r))\n",
    "r.head()"
   ]
  },
  {
   "cell_type": "markdown",
   "metadata": {},
   "source": [
    "Wrong queries will raise exception with a useful message from the server."
   ]
  },
  {
   "cell_type": "code",
   "execution_count": 10,
   "metadata": {},
   "outputs": [
    {
     "ename": "HTTPError",
     "evalue": "Cannot parse query 'select top 5 * from foo.bar' for job '1544693257391O': 1 unresolved identifiers: bar [l.1 c.21 - l.1 c.28] !",
     "output_type": "error",
     "traceback": [
      "\u001b[0;31m---------------------------------------------------------------------------\u001b[0m",
      "\u001b[0;31mHTTPError\u001b[0m                                 Traceback (most recent call last)",
      "\u001b[0;32m~/projects/gapipes/gapipes/gaia/core.py\u001b[0m in \u001b[0;36mquery\u001b[0;34m(self, query, name, upload_resource, upload_table_name, output_format)\u001b[0m\n\u001b[1;32m    177\u001b[0m         \u001b[0;32mtry\u001b[0m\u001b[0;34m:\u001b[0m\u001b[0;34m\u001b[0m\u001b[0;34m\u001b[0m\u001b[0m\n\u001b[0;32m--> 178\u001b[0;31m             \u001b[0mr\u001b[0m\u001b[0;34m.\u001b[0m\u001b[0mraise_for_status\u001b[0m\u001b[0;34m(\u001b[0m\u001b[0;34m)\u001b[0m\u001b[0;34m\u001b[0m\u001b[0;34m\u001b[0m\u001b[0m\n\u001b[0m\u001b[1;32m    179\u001b[0m             \u001b[0;32mreturn\u001b[0m \u001b[0mTap\u001b[0m\u001b[0;34m.\u001b[0m\u001b[0mparse_result_table\u001b[0m\u001b[0;34m(\u001b[0m\u001b[0mr\u001b[0m\u001b[0;34m,\u001b[0m \u001b[0moutput_format\u001b[0m\u001b[0;34m)\u001b[0m\u001b[0;34m\u001b[0m\u001b[0;34m\u001b[0m\u001b[0m\n",
      "\u001b[0;32m~/miniconda3/envs/research/lib/python3.7/site-packages/requests/models.py\u001b[0m in \u001b[0;36mraise_for_status\u001b[0;34m(self)\u001b[0m\n\u001b[1;32m    938\u001b[0m         \u001b[0;32mif\u001b[0m \u001b[0mhttp_error_msg\u001b[0m\u001b[0;34m:\u001b[0m\u001b[0;34m\u001b[0m\u001b[0;34m\u001b[0m\u001b[0m\n\u001b[0;32m--> 939\u001b[0;31m             \u001b[0;32mraise\u001b[0m \u001b[0mHTTPError\u001b[0m\u001b[0;34m(\u001b[0m\u001b[0mhttp_error_msg\u001b[0m\u001b[0;34m,\u001b[0m \u001b[0mresponse\u001b[0m\u001b[0;34m=\u001b[0m\u001b[0mself\u001b[0m\u001b[0;34m)\u001b[0m\u001b[0;34m\u001b[0m\u001b[0;34m\u001b[0m\u001b[0m\n\u001b[0m\u001b[1;32m    940\u001b[0m \u001b[0;34m\u001b[0m\u001b[0m\n",
      "\u001b[0;31mHTTPError\u001b[0m: 500 Server Error: 500 for url: https://gea.esac.esa.int/tap-server/tap/sync",
      "\nThe above exception was the direct cause of the following exception:\n",
      "\u001b[0;31mHTTPError\u001b[0m                                 Traceback (most recent call last)",
      "\u001b[0;32m<ipython-input-10-baaf9fa1f68b>\u001b[0m in \u001b[0;36m<module>\u001b[0;34m\u001b[0m\n\u001b[0;32m----> 1\u001b[0;31m \u001b[0mr\u001b[0m \u001b[0;34m=\u001b[0m \u001b[0mgp\u001b[0m\u001b[0;34m.\u001b[0m\u001b[0mgaia\u001b[0m\u001b[0;34m.\u001b[0m\u001b[0mquery\u001b[0m\u001b[0;34m(\u001b[0m\u001b[0;34m'select top 5 * from foo.bar'\u001b[0m\u001b[0;34m)\u001b[0m\u001b[0;34m\u001b[0m\u001b[0;34m\u001b[0m\u001b[0m\n\u001b[0m",
      "\u001b[0;32m~/projects/gapipes/gapipes/gaia/core.py\u001b[0m in \u001b[0;36mquery\u001b[0;34m(self, query, name, upload_resource, upload_table_name, output_format)\u001b[0m\n\u001b[1;32m    180\u001b[0m         \u001b[0;32mexcept\u001b[0m \u001b[0mHTTPError\u001b[0m \u001b[0;32mas\u001b[0m \u001b[0me\u001b[0m\u001b[0;34m:\u001b[0m\u001b[0;34m\u001b[0m\u001b[0;34m\u001b[0m\u001b[0m\n\u001b[1;32m    181\u001b[0m             \u001b[0mmessage\u001b[0m \u001b[0;34m=\u001b[0m \u001b[0mparse_votable_error_response\u001b[0m\u001b[0;34m(\u001b[0m\u001b[0mr\u001b[0m\u001b[0;34m)\u001b[0m\u001b[0;34m\u001b[0m\u001b[0;34m\u001b[0m\u001b[0m\n\u001b[0;32m--> 182\u001b[0;31m             \u001b[0;32mraise\u001b[0m \u001b[0mHTTPError\u001b[0m\u001b[0;34m(\u001b[0m\u001b[0mmessage\u001b[0m\u001b[0;34m)\u001b[0m \u001b[0;32mfrom\u001b[0m \u001b[0me\u001b[0m\u001b[0;34m\u001b[0m\u001b[0;34m\u001b[0m\u001b[0m\n\u001b[0m\u001b[1;32m    183\u001b[0m \u001b[0;34m\u001b[0m\u001b[0m\n\u001b[1;32m    184\u001b[0m     def query_async(self, query, name=None,\n",
      "\u001b[0;31mHTTPError\u001b[0m: Cannot parse query 'select top 5 * from foo.bar' for job '1544693257391O': 1 unresolved identifiers: bar [l.1 c.21 - l.1 c.28] !"
     ]
    }
   ],
   "source": [
    "r = gp.gaia.query('select top 5 * from foo.bar')"
   ]
  },
  {
   "cell_type": "markdown",
   "metadata": {},
   "source": [
    "### Asynchronous queries\n",
    "\n",
    "For a more complicated queries that takes longer, use `.query_async`. The interface is the same except the return value is now a `Job` instance."
   ]
  },
  {
   "cell_type": "code",
   "execution_count": 37,
   "metadata": {},
   "outputs": [
    {
     "data": {
      "text/plain": [
       "Job(jobid='1544689926783O', phase='EXECUTING')"
      ]
     },
     "execution_count": 37,
     "metadata": {},
     "output_type": "execute_result"
    }
   ],
   "source": [
    "query = \"\"\"\n",
    "select \n",
    "    count(*) as n, \n",
    "    round(phot_g_mean_mag, 1) as val\n",
    "from \n",
    "    gaiadr1.tgas_source \n",
    "group by val\n",
    "order by val\n",
    "\"\"\"\n",
    "j = gp.gaia.query_async(query, output_format='csv', name='histogram')\n",
    "j"
   ]
  },
  {
   "cell_type": "markdown",
   "metadata": {},
   "source": [
    "Use `.get_result` to wait until the job is finished and download the result."
   ]
  },
  {
   "cell_type": "code",
   "execution_count": 38,
   "metadata": {},
   "outputs": [
    {
     "name": "stdout",
     "output_type": "stream",
     "text": [
      "CPU times: user 26.5 ms, sys: 9.81 ms, total: 36.4 ms\n",
      "Wall time: 278 ms\n"
     ]
    }
   ],
   "source": [
    "%%time\n",
    "r = j.get_result()"
   ]
  },
  {
   "cell_type": "code",
   "execution_count": 41,
   "metadata": {},
   "outputs": [],
   "source": [
    "%matplotlib inline"
   ]
  },
  {
   "cell_type": "code",
   "execution_count": 42,
   "metadata": {},
   "outputs": [
    {
     "data": {
      "image/png": "[encoded data removed]",
      "text/plain": [
       "<Figure size 432x288 with 1 Axes>"
      ]
     },
     "metadata": {
      "needs_background": "light"
     },
     "output_type": "display_data"
    }
   ],
   "source": [
    "r.plot('val', 'n');"
   ]
  },
  {
   "cell_type": "markdown",
   "metadata": {},
   "source": [
    "Inspect `Job` if needed."
   ]
  },
  {
   "cell_type": "code",
   "execution_count": 44,
   "metadata": {},
   "outputs": [
    {
     "name": "stdout",
     "output_type": "stream",
     "text": [
      "\n",
      "select \n",
      "    count(*) as n, \n",
      "    round(phot_g_mean_mag, 1) as val\n",
      "from \n",
      "    gaiadr1.tgas_source \n",
      "group by val\n",
      "order by val\n",
      "\n"
     ]
    }
   ],
   "source": [
    "print(j.query)"
   ]
  },
  {
   "cell_type": "code",
   "execution_count": 45,
   "metadata": {},
   "outputs": [
    {
     "name": "stdout",
     "output_type": "stream",
     "text": [
      "https://gea.esac.esa.int/tap-server/tap/async/1544689926783O\n",
      "https://gea.esac.esa.int/tap-server/tap/async/1544689926783O/results/result\n"
     ]
    }
   ],
   "source": [
    "print(j.url)\n",
    "print(j.result_url)"
   ]
  },
  {
   "cell_type": "markdown",
   "metadata": {},
   "source": [
    "## Using authenticated service\n",
    "\n",
    "The real benefits of TAP+ is in the authenticated service."
   ]
  },
  {
   "cell_type": "markdown",
   "metadata": {},
   "source": [
    "### Logging in and out of server\n",
    "\n",
    "You should make an account first."
   ]
  },
  {
   "cell_type": "code",
   "execution_count": 11,
   "metadata": {},
   "outputs": [
    {
     "name": "stdin",
     "output_type": "stream",
     "text": [
      "User:  soh\n",
      "Password:  ············\n"
     ]
    }
   ],
   "source": [
    "gp.gaia.login() "
   ]
  },
  {
   "cell_type": "code",
   "execution_count": 47,
   "metadata": {},
   "outputs": [],
   "source": [
    "gp.gaia.logout()"
   ]
  },
  {
   "cell_type": "markdown",
   "metadata": {},
   "source": [
    "### Managing user tables"
   ]
  },
  {
   "cell_type": "markdown",
   "metadata": {},
   "source": [
    "Once you login, you can upload your own tables to user space."
   ]
  },
  {
   "cell_type": "code",
   "execution_count": 12,
   "metadata": {},
   "outputs": [
    {
     "data": {
      "text/plain": [
       "<Response [200]>"
      ]
     },
     "execution_count": 12,
     "metadata": {},
     "output_type": "execute_result"
    }
   ],
   "source": [
    "import pandas as pd\n",
    "from astropy.table import Table\n",
    "\n",
    "mytable = Table.from_pandas(pd.DataFrame(dict(a=[1,2,3], b=[4,5,6])))\n",
    "gp.gaia.upload_table(mytable, 'foobar', table_description='test table to demonstrate upload')"
   ]
  },
  {
   "cell_type": "markdown",
   "metadata": {},
   "source": [
    "When you are logged in, say as user `joe`, querying table list will incluse tables under user schema `user_joe`.\n",
    "\n",
    "```python\n",
    ">>> tablelist = gp.gaia.get_table_info()  # with no keywords, gets all tables\n",
    ">>> tablelist.filter(schema='user_joe')\n",
    "```"
   ]
  },
  {
   "cell_type": "markdown",
   "metadata": {},
   "source": [
    "You can delete an uploaded user table.\n",
    "\n",
    "```python\n",
    ">>> gp.gaia.delete_user_table('user_joe.foobar')\n",
    "```"
   ]
  },
  {
   "cell_type": "code",
   "execution_count": null,
   "metadata": {},
   "outputs": [],
   "source": []
  }
 ],
 "metadata": {
  "kernelspec": {
   "display_name": "Python 3",
   "language": "python",
   "name": "python3"
  },
  "language_info": {
   "codemirror_mode": {
    "name": "ipython",
    "version": 3
   },
   "file_extension": ".py",
   "mimetype": "text/x-python",
   "name": "python",
   "nbconvert_exporter": "python",
   "pygments_lexer": "ipython3",
   "version": "3.7.1"
  }
 },
 "nbformat": 4,
 "nbformat_minor": 2
}
