{
 "cells": [
  {
   "cell_type": "markdown",
   "metadata": {},
   "source": [
    "# Using pandas accessors\n",
    "\n",
    "## What are pandas accessors?\n",
    "\n",
    "Pandas DataFrames provides a rich set of feautres that makes data manituplation and exploration easy.\n",
    "However, because it is built for general purpose, it can lack common domain-specific operations.\n",
    "It is tempting to subclass pandas.DataFrame in order to add these as methods but this is generally not recommended.\n",
    "Instead, pandas provides an interface to add custom accessors.\n",
    "\n",
    "Custom accessors to pandas DataFrame or Series provides a namespace under which you can define your own methods that manipulates your specific data. For gapipes, this is `g`.\n",
    "\n",
    "When you import `gapipes`, it will register a custom accessor `g` for all DataFrames and Series.\n",
    "Under this `g` namespace, we can populate our custom methods for e.g., creating an astropy coordinates object from the given table (DataFrame).\n",
    "\n",
    "Let's quickly fetch some random Gaia data."
   ]
  },
  {
   "cell_type": "code",
   "execution_count": 1,
   "metadata": {},
   "outputs": [],
   "source": [
    "%matplotlib inline\n",
    "import gapipes as gp\n",
    "\n",
    "d = gp.gaia.query(\"\"\"\n",
    "select *\n",
    "from gaiadr2.gaia_source\n",
    "where\n",
    "  1=contains(point('', ra, dec),\n",
    "             circle('', 130.226, 19.665, 1))\n",
    "  and parallax between 4.613 and 7.312\n",
    "\"\"\")"
   ]
  },
  {
   "cell_type": "code",
   "execution_count": 24,
   "metadata": {},
   "outputs": [
    {
     "name": "stdout",
     "output_type": "stream",
     "text": [
      "651 rows, 96 columns\n"
     ]
    }
   ],
   "source": [
    "print(f\"{len(d)} rows, {len(d.columns)} columns\")"
   ]
  },
  {
   "cell_type": "markdown",
   "metadata": {},
   "source": [
    "Under the namespace `g`, `.icrs` and `.galactic` properties will\n",
    "create and return astropy's `ICRS` and `Galactic` coordinate objects."
   ]
  },
  {
   "cell_type": "code",
   "execution_count": 29,
   "metadata": {},
   "outputs": [
    {
     "name": "stdout",
     "output_type": "stream",
     "text": [
      "<class 'astropy.coordinates.builtin_frames.icrs.ICRS'> <class 'astropy.coordinates.builtin_frames.galactic.Galactic'>\n"
     ]
    }
   ],
   "source": [
    "icrs = d.g.icrs    # astropy.coordinates.ICRS\n",
    "galactic = d.g.galactic\n",
    "print(type(icrs), type(galactic))"
   ]
  },
  {
   "cell_type": "markdown",
   "metadata": {},
   "source": [
    "To make the covariance matrix for all sources within the dataframe, we can do"
   ]
  },
  {
   "cell_type": "code",
   "execution_count": 13,
   "metadata": {},
   "outputs": [
    {
     "name": "stdout",
     "output_type": "stream",
     "text": [
      "(651, 3, 3)\n"
     ]
    }
   ],
   "source": [
    "cov = d.g.make_cov()\n",
    "print(cov.shape)"
   ]
  },
  {
   "cell_type": "markdown",
   "metadata": {},
   "source": [
    "The same method is defined for pandas Series as well."
   ]
  },
  {
   "cell_type": "code",
   "execution_count": 17,
   "metadata": {},
   "outputs": [
    {
     "name": "stdout",
     "output_type": "stream",
     "text": [
      "(3, 3)\n",
      "[[ 0.03407061  0.03978523 -0.01119716]\n",
      " [ 0.03978523  0.0693536  -0.01736009]\n",
      " [-0.01119716 -0.01736009  0.01528202]]\n"
     ]
    }
   ],
   "source": [
    "source = d.iloc[0]\n",
    "cov = source.g.make_cov()\n",
    "print(cov.shape)\n",
    "print(cov)"
   ]
  },
  {
   "cell_type": "markdown",
   "metadata": {},
   "source": [
    "For a single source (pandas.Series), you can quickly look up the source position in Simbad with `.open_simbad()`, which will open your browser doing the Simbad position search."
   ]
  },
  {
   "cell_type": "code",
   "execution_count": null,
   "metadata": {},
   "outputs": [],
   "source": [
    "source.g.open_simbad()"
   ]
  },
  {
   "cell_type": "markdown",
   "metadata": {},
   "source": [
    "Here are all the methods for DataFrames and Series."
   ]
  },
  {
   "cell_type": "code",
   "execution_count": 20,
   "metadata": {},
   "outputs": [
    {
     "name": "stdout",
     "output_type": "stream",
     "text": [
      "correct_brightsource_pm\n",
      "distmod\n",
      "galactic\n",
      "icrs\n",
      "make_cov\n",
      "plot_xyz_icrs\n",
      "vdec\n",
      "vdec_error\n",
      "vra\n",
      "vra_error\n"
     ]
    }
   ],
   "source": [
    "print('\\n'.join(list(filter(lambda x: not x.startswith('_'), dir(d.g)))))"
   ]
  },
  {
   "cell_type": "code",
   "execution_count": 23,
   "metadata": {},
   "outputs": [
    {
     "name": "stdout",
     "output_type": "stream",
     "text": [
      "distmod\n",
      "icrs\n",
      "make_cov\n",
      "open_simbad\n"
     ]
    }
   ],
   "source": [
    "print('\\n'.join(list(filter(lambda x: not x.startswith('_'), dir(d.iloc[0].g)))))"
   ]
  },
  {
   "cell_type": "markdown",
   "metadata": {},
   "source": [
    "The accessor is attached to _any_ DataFrame or Series including slices of the original data, which can save a lot of time for exploratory data analysis."
   ]
  },
  {
   "cell_type": "code",
   "execution_count": 33,
   "metadata": {},
   "outputs": [
    {
     "data": {
      "text/plain": [
       "<ICRS Coordinate: (ra, dec, distance) in (deg, deg, pc)\n",
       "    [(130.12157181, 18.79627847, 181.87376145),\n",
       "     (130.05526312, 18.72393993, 190.20501526),\n",
       "     (130.13982678, 18.67443893, 188.26622276),\n",
       "     (130.24423701, 18.67500043, 152.59152456),\n",
       "     (130.06723764, 18.79161546, 209.60959948)]\n",
       " (pm_ra_cosdec, pm_dec, radial_velocity) in (mas / yr, mas / yr, km / s)\n",
       "    [(-60.7075949 , -52.76753264,         nan),\n",
       "     (-35.80150307, -12.40964744,         nan),\n",
       "     (-37.06980874, -11.88689953, 29.54114051),\n",
       "     (-33.0232434 ,  -5.58953023, 36.23858577),\n",
       "     (-22.05408719, -19.82573781,  9.80905085)]>"
      ]
     },
     "execution_count": 33,
     "metadata": {},
     "output_type": "execute_result"
    }
   ],
   "source": [
    "subset = d.iloc[:5]\n",
    "subset.g.icrs"
   ]
  },
  {
   "cell_type": "markdown",
   "metadata": {},
   "source": [
    "Check out each method/property docstring or API documentation for details."
   ]
  }
 ],
 "metadata": {
  "kernelspec": {
   "display_name": "Python 3",
   "language": "python",
   "name": "python3"
  },
  "language_info": {
   "codemirror_mode": {
    "name": "ipython",
    "version": 3
   },
   "file_extension": ".py",
   "mimetype": "text/x-python",
   "name": "python",
   "nbconvert_exporter": "python",
   "pygments_lexer": "ipython3",
   "version": "3.7.3"
  }
 },
 "nbformat": 4,
 "nbformat_minor": 2
}
