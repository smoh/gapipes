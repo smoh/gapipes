{
 "cells": [
  {
   "cell_type": "markdown",
   "metadata": {},
   "source": [
    "Welcome to gapipes!\n",
    "===================\n",
    "\n",
    "**gapipes** is a [pandas](http://pandas.pydata.org)-centric lightweight collection of routines\n",
    "to fetch and work with the [Gaia](https://www.cosmos.esa.int/web/gaia/data) data.\n",
    "\n",
    "It provides\n",
    "\n",
    "- sensible and tested [Gaia TAP+](http://gea.esac.esa.int/archive/) client to fetch the data\n",
    "- [custom accessors](https://pandas.pydata.org/pandas-docs/stable/development/extending.html) to pandas DataFrame and Series to do common operations on the Gaia data such as\n",
    "\n",
    "  - making astropy [coordinates](http://docs.astropy.org/en/stable/coordinates/index.html) objects\n",
    "  - calculating [renormalized unit weight error](https://www.cosmos.esa.int/web/gaia/dr2-known-issues)\n",
    "  - making covariance matrix from errors and correlation coefficients."
   ]
  },
  {
   "cell_type": "markdown",
   "metadata": {},
   "source": [
    "## A quick tour\n",
    "\n",
    "Say you have some Gaia data. Let's quickly fetch some from the Gaia archive."
   ]
  },
  {
   "cell_type": "code",
   "execution_count": 2,
   "metadata": {},
   "outputs": [],
   "source": [
    "import matplotlib.pyplot as plt\n",
    "import gapipes as gp\n",
    "\n",
    "df = gp.gaia.query(\"\"\"\n",
    "select top 50 *\n",
    "from gaiadr2.gaia_source\n",
    "where\n",
    "1=contains(point('', ra, dec),\n",
    "           circle('', 130.226, 19.665, 1))\n",
    "and parallax between 4.613 and 7.312\n",
    "\"\"\")"
   ]
  },
  {
   "cell_type": "markdown",
   "metadata": {},
   "source": [
    "`df` is a pandas Dataframe containing gaia sources."
   ]
  },
  {
   "cell_type": "code",
   "execution_count": 3,
   "metadata": {},
   "outputs": [
    {
     "name": "stdout",
     "output_type": "stream",
     "text": [
      "<class 'pandas.core.frame.DataFrame'> 50 rows\n"
     ]
    }
   ],
   "source": [
    "print(type(df), len(df), 'rows')"
   ]
  },
  {
   "cell_type": "markdown",
   "metadata": {},
   "source": [
    "When you import gapipes, it registers a custom accessor `g`, under which there is a collection of common operations.\n",
    "Let's just work with first 5 rows for display purpose."
   ]
  },
  {
   "cell_type": "code",
   "execution_count": 4,
   "metadata": {},
   "outputs": [],
   "source": [
    "d = df.head()"
   ]
  },
  {
   "cell_type": "markdown",
   "metadata": {},
   "source": [
    "- Make astropy ICRS coordinate instance with proper motion and radial velocity:"
   ]
  },
  {
   "cell_type": "code",
   "execution_count": 5,
   "metadata": {},
   "outputs": [
    {
     "data": {
      "text/plain": [
       "<ICRS Coordinate: (ra, dec, distance) in (deg, deg, pc)\n",
       "    [(130.12157181, 18.79627847, 181.87376145),\n",
       "     (130.05526312, 18.72393993, 190.20501526),\n",
       "     (130.13982678, 18.67443893, 188.26622276),\n",
       "     (130.24423701, 18.67500043, 152.59152456),\n",
       "     (130.06723764, 18.79161546, 209.60959948)]\n",
       " (pm_ra_cosdec, pm_dec, radial_velocity) in (mas / yr, mas / yr, km / s)\n",
       "    [(-60.7075949 , -52.76753264,         nan),\n",
       "     (-35.80150307, -12.40964744,         nan),\n",
       "     (-37.06980874, -11.88689953, 29.54114051),\n",
       "     (-33.0232434 ,  -5.58953023, 36.23858577),\n",
       "     (-22.05408719, -19.82573781,  9.80905085)]>"
      ]
     },
     "execution_count": 5,
     "metadata": {},
     "output_type": "execute_result"
    }
   ],
   "source": [
    "d.g.icrs"
   ]
  },
  {
   "cell_type": "markdown",
   "metadata": {},
   "source": [
    "- Make astropy Galactic coordinate instance:"
   ]
  },
  {
   "cell_type": "code",
   "execution_count": 6,
   "metadata": {},
   "outputs": [
    {
     "data": {
      "text/plain": [
       "<Galactic Coordinate: (l, b, distance) in (deg, deg, pc)\n",
       "    [(206.89277308, 32.19810551, 181.87376145),\n",
       "     (206.94629392, 32.1137144 , 190.20501526),\n",
       "     (207.03459301, 32.17095501, 188.26622276),\n",
       "     (207.07558656, 32.26359033, 152.59152456),\n",
       "     (206.87635259, 32.14836265, 209.60959948)]\n",
       " (pm_l_cosb, pm_b, radial_velocity) in (mas / yr, mas / yr, km / s)\n",
       "    [(        nan,          nan,         nan),\n",
       "     (        nan,          nan,         nan),\n",
       "     (-2.08990742, -38.87288757, 29.54114051),\n",
       "     (-6.52731056, -32.85074839, 36.23858577),\n",
       "     (10.70417661, -27.65616106,  9.80905085)]>"
      ]
     },
     "execution_count": 6,
     "metadata": {},
     "output_type": "execute_result"
    }
   ],
   "source": [
    "d.g.galactic"
   ]
  },
  {
   "cell_type": "markdown",
   "metadata": {},
   "source": [
    "- Make `[parallax, pmra, pmdec]` 3x3 covariance matrix (using `\"*_error\"` and `\"parallax_pmra_corr\"`, ... columns)"
   ]
  },
  {
   "cell_type": "code",
   "execution_count": 7,
   "metadata": {},
   "outputs": [
    {
     "data": {
      "text/plain": [
       "array([[[ 0.03407061,  0.03978523, -0.01119716],\n",
       "        [ 0.03978523,  0.0693536 , -0.01736009],\n",
       "        [-0.01119716, -0.01736009,  0.01528202]],\n",
       "\n",
       "       [[ 0.05322305,  0.04000269, -0.01155556],\n",
       "        [ 0.04000269,  0.1277317 , -0.03569367],\n",
       "        [-0.01155556, -0.03569367,  0.04880749]],\n",
       "\n",
       "       [[ 0.00363713,  0.00340469, -0.00060153],\n",
       "        [ 0.00340469,  0.00880243, -0.00189437],\n",
       "        [-0.00060153, -0.00189437,  0.0036257 ]],\n",
       "\n",
       "       [[ 0.06099286,  0.06141351, -0.01816473],\n",
       "        [ 0.06141351,  0.13105763, -0.03839579],\n",
       "        [-0.01816473, -0.03839579,  0.04169299]],\n",
       "\n",
       "       [[ 0.00185897,  0.00182671, -0.00045218],\n",
       "        [ 0.00182671,  0.00437075, -0.00137452],\n",
       "        [-0.00045218, -0.00137452,  0.00190053]]])"
      ]
     },
     "execution_count": 7,
     "metadata": {},
     "output_type": "execute_result"
    }
   ],
   "source": [
    "d.g.make_cov()"
   ]
  },
  {
   "cell_type": "markdown",
   "metadata": {},
   "source": [
    "The same accessor is available for pandas.Series that contains one row of gaia_source table, i.e., data for a single source."
   ]
  },
  {
   "cell_type": "code",
   "execution_count": 8,
   "metadata": {},
   "outputs": [
    {
     "data": {
      "text/plain": [
       "solution_id                                           1635721458409799680\n",
       "designation                                   Gaia DR2 659494740858299264\n",
       "source_id                                              659494740858299264\n",
       "random_index                                                    642953719\n",
       "ref_epoch                                                          2015.5\n",
       "                                              ...                        \n",
       "lum_val                                                               NaN\n",
       "lum_percentile_lower                                                  NaN\n",
       "lum_percentile_upper                                                  NaN\n",
       "datalink_url            https://gea.esac.esa.int/data-server/datalink/...\n",
       "epoch_photometry_url                                                  NaN\n",
       "Name: 0, Length: 96, dtype: object"
      ]
     },
     "execution_count": 8,
     "metadata": {},
     "output_type": "execute_result"
    }
   ],
   "source": [
    "s = d.iloc[0]\n",
    "s"
   ]
  },
  {
   "cell_type": "markdown",
   "metadata": {},
   "source": [
    "- Make astropy ICRS coordinate object"
   ]
  },
  {
   "cell_type": "code",
   "execution_count": 9,
   "metadata": {},
   "outputs": [
    {
     "data": {
      "text/plain": [
       "<ICRS Coordinate: (ra, dec, distance) in (deg, deg, pc)\n",
       "    (130.12157181, 18.79627847, 181.87376145)\n",
       " (pm_ra_cosdec, pm_dec, radial_velocity) in (mas / yr, mas / yr, km / s)\n",
       "    (-60.7075949, -52.76753264, nan)>"
      ]
     },
     "execution_count": 9,
     "metadata": {},
     "output_type": "execute_result"
    }
   ],
   "source": [
    "s.g.icrs"
   ]
  },
  {
   "cell_type": "markdown",
   "metadata": {},
   "source": [
    "- Open Simbad coordinate search for this source in default web browser."
   ]
  },
  {
   "cell_type": "code",
   "execution_count": 29,
   "metadata": {},
   "outputs": [],
   "source": [
    "s.g.open_simbad() # will open the page in your browser"
   ]
  },
  {
   "cell_type": "raw",
   "metadata": {},
   "source": [
    "Have a look at :ref:`summary-custom` for all methods and attributes."
   ]
  },
  {
   "cell_type": "raw",
   "metadata": {
    "nbsphinx-toctree": {}
   },
   "source": [
    ".. toctree::\n",
    "   :maxdepth: 2\n",
    "   :caption: Contents:\n",
    "\n",
    "   getting-started\n",
    "   using-accessors-and-pipes\n",
    "   api"
   ]
  }
 ],
 "metadata": {
  "kernelspec": {
   "display_name": "Python 3",
   "language": "python",
   "name": "python3"
  },
  "language_info": {
   "codemirror_mode": {
    "name": "ipython",
    "version": 3
   },
   "file_extension": ".py",
   "mimetype": "text/x-python",
   "name": "python",
   "nbconvert_exporter": "python",
   "pygments_lexer": "ipython3",
   "version": "3.7.7"
  }
 },
 "nbformat": 4,
 "nbformat_minor": 4
}
