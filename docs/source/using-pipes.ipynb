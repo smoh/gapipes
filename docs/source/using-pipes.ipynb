{
 "cells": [
  {
   "cell_type": "markdown",
   "metadata": {},
   "source": [
    "# Using pandas pipes\n",
    "\n",
    "## What are pandas pipes?\n",
    "\n",
    "Pandas DataFrames provides a rich set of feautres that makes data manituplation and exploration easy.\n",
    "However, because it is built for general purpose, it can lack common domain-specific operations.\n",
    "It is tempting to subclass pandas.DataFrame in order to add these as methods but this is generally not recommended.\n",
    "Instead, pandas provides `pipe` method changing to accomodate these needs. "
   ]
  },
  {
   "cell_type": "markdown",
   "metadata": {},
   "source": [
    "## Example: coordinate transformation"
   ]
  },
  {
   "cell_type": "code",
   "execution_count": 9,
   "metadata": {},
   "outputs": [],
   "source": [
    "%matplotlib inline\n",
    "import gapipes as gp\n",
    "r = gp.gaia.query('select top 50 * from gaiadr2.gaia_source')"
   ]
  },
  {
   "cell_type": "code",
   "execution_count": 2,
   "metadata": {},
   "outputs": [
    {
     "data": {
      "text/html": [
       "<div>\n",
       "<style scoped>\n",
       "    .dataframe tbody tr th:only-of-type {\n",
       "        vertical-align: middle;\n",
       "    }\n",
       "\n",
       "    .dataframe tbody tr th {\n",
       "        vertical-align: top;\n",
       "    }\n",
       "\n",
       "    .dataframe thead th {\n",
       "        text-align: right;\n",
       "    }\n",
       "</style>\n",
       "<table border=\"1\" class=\"dataframe\">\n",
       "  <thead>\n",
       "    <tr style=\"text-align: right;\">\n",
       "      <th></th>\n",
       "      <th>solution_id</th>\n",
       "      <th>designation</th>\n",
       "      <th>source_id</th>\n",
       "      <th>random_index</th>\n",
       "      <th>ref_epoch</th>\n",
       "      <th>ra</th>\n",
       "      <th>ra_error</th>\n",
       "      <th>dec</th>\n",
       "      <th>dec_error</th>\n",
       "      <th>parallax</th>\n",
       "      <th>...</th>\n",
       "      <th>e_bp_min_rp_percentile_upper</th>\n",
       "      <th>flame_flags</th>\n",
       "      <th>radius_val</th>\n",
       "      <th>radius_percentile_lower</th>\n",
       "      <th>radius_percentile_upper</th>\n",
       "      <th>lum_val</th>\n",
       "      <th>lum_percentile_lower</th>\n",
       "      <th>lum_percentile_upper</th>\n",
       "      <th>datalink_url</th>\n",
       "      <th>epoch_photometry_url</th>\n",
       "    </tr>\n",
       "  </thead>\n",
       "  <tbody>\n",
       "    <tr>\n",
       "      <th>0</th>\n",
       "      <td>1635721458409799680</td>\n",
       "      <td>Gaia DR2 5829697511903774080</td>\n",
       "      <td>5829697511903774080</td>\n",
       "      <td>379759382</td>\n",
       "      <td>2015.5</td>\n",
       "      <td>243.123998</td>\n",
       "      <td>0.534166</td>\n",
       "      <td>-61.695001</td>\n",
       "      <td>0.407945</td>\n",
       "      <td>1.188644</td>\n",
       "      <td>...</td>\n",
       "      <td>NaN</td>\n",
       "      <td>NaN</td>\n",
       "      <td>NaN</td>\n",
       "      <td>NaN</td>\n",
       "      <td>NaN</td>\n",
       "      <td>NaN</td>\n",
       "      <td>NaN</td>\n",
       "      <td>NaN</td>\n",
       "      <td>http://geadata.esac.esa.int/data-server/datali...</td>\n",
       "      <td>NaN</td>\n",
       "    </tr>\n",
       "    <tr>\n",
       "      <th>1</th>\n",
       "      <td>1635721458409799680</td>\n",
       "      <td>Gaia DR2 5829701055253868544</td>\n",
       "      <td>5829701055253868544</td>\n",
       "      <td>1168681669</td>\n",
       "      <td>2015.5</td>\n",
       "      <td>242.496014</td>\n",
       "      <td>2.729361</td>\n",
       "      <td>-62.163089</td>\n",
       "      <td>1.877873</td>\n",
       "      <td>NaN</td>\n",
       "      <td>...</td>\n",
       "      <td>NaN</td>\n",
       "      <td>NaN</td>\n",
       "      <td>NaN</td>\n",
       "      <td>NaN</td>\n",
       "      <td>NaN</td>\n",
       "      <td>NaN</td>\n",
       "      <td>NaN</td>\n",
       "      <td>NaN</td>\n",
       "      <td>http://geadata.esac.esa.int/data-server/datali...</td>\n",
       "      <td>NaN</td>\n",
       "    </tr>\n",
       "    <tr>\n",
       "      <th>2</th>\n",
       "      <td>1635721458409799680</td>\n",
       "      <td>Gaia DR2 5829684764449434112</td>\n",
       "      <td>5829684764449434112</td>\n",
       "      <td>1512916310</td>\n",
       "      <td>2015.5</td>\n",
       "      <td>243.123080</td>\n",
       "      <td>0.141668</td>\n",
       "      <td>-61.916076</td>\n",
       "      <td>0.107055</td>\n",
       "      <td>0.071743</td>\n",
       "      <td>...</td>\n",
       "      <td>NaN</td>\n",
       "      <td>NaN</td>\n",
       "      <td>NaN</td>\n",
       "      <td>NaN</td>\n",
       "      <td>NaN</td>\n",
       "      <td>NaN</td>\n",
       "      <td>NaN</td>\n",
       "      <td>NaN</td>\n",
       "      <td>http://geadata.esac.esa.int/data-server/datali...</td>\n",
       "      <td>NaN</td>\n",
       "    </tr>\n",
       "    <tr>\n",
       "      <th>3</th>\n",
       "      <td>1635721458409799680</td>\n",
       "      <td>Gaia DR2 5829695832570865536</td>\n",
       "      <td>5829695832570865536</td>\n",
       "      <td>899863637</td>\n",
       "      <td>2015.5</td>\n",
       "      <td>243.008670</td>\n",
       "      <td>0.304125</td>\n",
       "      <td>-61.720535</td>\n",
       "      <td>0.314474</td>\n",
       "      <td>-0.285236</td>\n",
       "      <td>...</td>\n",
       "      <td>NaN</td>\n",
       "      <td>NaN</td>\n",
       "      <td>NaN</td>\n",
       "      <td>NaN</td>\n",
       "      <td>NaN</td>\n",
       "      <td>NaN</td>\n",
       "      <td>NaN</td>\n",
       "      <td>NaN</td>\n",
       "      <td>http://geadata.esac.esa.int/data-server/datali...</td>\n",
       "      <td>NaN</td>\n",
       "    </tr>\n",
       "    <tr>\n",
       "      <th>4</th>\n",
       "      <td>1635721458409799680</td>\n",
       "      <td>Gaia DR2 5829691503242975616</td>\n",
       "      <td>5829691503242975616</td>\n",
       "      <td>1298707733</td>\n",
       "      <td>2015.5</td>\n",
       "      <td>243.310581</td>\n",
       "      <td>0.197660</td>\n",
       "      <td>-61.824427</td>\n",
       "      <td>0.145823</td>\n",
       "      <td>0.406401</td>\n",
       "      <td>...</td>\n",
       "      <td>NaN</td>\n",
       "      <td>NaN</td>\n",
       "      <td>NaN</td>\n",
       "      <td>NaN</td>\n",
       "      <td>NaN</td>\n",
       "      <td>NaN</td>\n",
       "      <td>NaN</td>\n",
       "      <td>NaN</td>\n",
       "      <td>http://geadata.esac.esa.int/data-server/datali...</td>\n",
       "      <td>NaN</td>\n",
       "    </tr>\n",
       "  </tbody>\n",
       "</table>\n",
       "<p>5 rows × 96 columns</p>\n",
       "</div>"
      ],
      "text/plain": [
       "           solution_id                   designation            source_id  \\\n",
       "0  1635721458409799680  Gaia DR2 5829697511903774080  5829697511903774080   \n",
       "1  1635721458409799680  Gaia DR2 5829701055253868544  5829701055253868544   \n",
       "2  1635721458409799680  Gaia DR2 5829684764449434112  5829684764449434112   \n",
       "3  1635721458409799680  Gaia DR2 5829695832570865536  5829695832570865536   \n",
       "4  1635721458409799680  Gaia DR2 5829691503242975616  5829691503242975616   \n",
       "\n",
       "   random_index  ref_epoch          ra  ra_error        dec  dec_error  \\\n",
       "0     379759382     2015.5  243.123998  0.534166 -61.695001   0.407945   \n",
       "1    1168681669     2015.5  242.496014  2.729361 -62.163089   1.877873   \n",
       "2    1512916310     2015.5  243.123080  0.141668 -61.916076   0.107055   \n",
       "3     899863637     2015.5  243.008670  0.304125 -61.720535   0.314474   \n",
       "4    1298707733     2015.5  243.310581  0.197660 -61.824427   0.145823   \n",
       "\n",
       "   parallax          ...           e_bp_min_rp_percentile_upper  flame_flags  \\\n",
       "0  1.188644          ...                                    NaN          NaN   \n",
       "1       NaN          ...                                    NaN          NaN   \n",
       "2  0.071743          ...                                    NaN          NaN   \n",
       "3 -0.285236          ...                                    NaN          NaN   \n",
       "4  0.406401          ...                                    NaN          NaN   \n",
       "\n",
       "   radius_val  radius_percentile_lower  radius_percentile_upper  lum_val  \\\n",
       "0         NaN                      NaN                      NaN      NaN   \n",
       "1         NaN                      NaN                      NaN      NaN   \n",
       "2         NaN                      NaN                      NaN      NaN   \n",
       "3         NaN                      NaN                      NaN      NaN   \n",
       "4         NaN                      NaN                      NaN      NaN   \n",
       "\n",
       "   lum_percentile_lower  lum_percentile_upper  \\\n",
       "0                   NaN                   NaN   \n",
       "1                   NaN                   NaN   \n",
       "2                   NaN                   NaN   \n",
       "3                   NaN                   NaN   \n",
       "4                   NaN                   NaN   \n",
       "\n",
       "                                        datalink_url  epoch_photometry_url  \n",
       "0  http://geadata.esac.esa.int/data-server/datali...                   NaN  \n",
       "1  http://geadata.esac.esa.int/data-server/datali...                   NaN  \n",
       "2  http://geadata.esac.esa.int/data-server/datali...                   NaN  \n",
       "3  http://geadata.esac.esa.int/data-server/datali...                   NaN  \n",
       "4  http://geadata.esac.esa.int/data-server/datali...                   NaN  \n",
       "\n",
       "[5 rows x 96 columns]"
      ]
     },
     "execution_count": 2,
     "metadata": {},
     "output_type": "execute_result"
    }
   ],
   "source": [
    "r.head()"
   ]
  },
  {
   "cell_type": "code",
   "execution_count": 11,
   "metadata": {},
   "outputs": [],
   "source": [
    "r = gp.gaia.query('''\n",
    "select  top 500 * from gaiadr2.gaia_source\n",
    "where parallax_over_error>100 and parallax>5''')"
   ]
  },
  {
   "cell_type": "code",
   "execution_count": 13,
   "metadata": {},
   "outputs": [
    {
     "data": {
      "image/png": "[encoded data removed]",
      "text/plain": [
       "<Figure size 432x288 with 1 Axes>"
      ]
     },
     "metadata": {
      "needs_background": "light"
     },
     "output_type": "display_data"
    }
   ],
   "source": [
    "r.pipe(gp.add_gMag).plot.scatter('bp_rp', 'gMag').invert_yaxis();"
   ]
  },
  {
   "cell_type": "code",
   "execution_count": 14,
   "metadata": {},
   "outputs": [
    {
     "data": {
      "image/png": "[encoded data removed]",
      "text/plain": [
       "<Figure size 432x288 with 1 Axes>"
      ]
     },
     "metadata": {
      "needs_background": "light"
     },
     "output_type": "display_data"
    }
   ],
   "source": [
    "import astropy.coordinates as coord\n",
    "\n",
    "r.pipe(gp.add_xv, coord.ICRS).plot.scatter('x', 'y',);"
   ]
  }
 ],
 "metadata": {
  "kernelspec": {
   "display_name": "Python 3",
   "language": "python",
   "name": "python3"
  },
  "language_info": {
   "codemirror_mode": {
    "name": "ipython",
    "version": 3
   },
   "file_extension": ".py",
   "mimetype": "text/x-python",
   "name": "python",
   "nbconvert_exporter": "python",
   "pygments_lexer": "ipython3",
   "version": "3.7.1"
  }
 },
 "nbformat": 4,
 "nbformat_minor": 2
}
